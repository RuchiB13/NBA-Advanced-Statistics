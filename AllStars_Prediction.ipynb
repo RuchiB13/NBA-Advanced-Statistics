{
 "cells": [
  {
   "cell_type": "markdown",
   "metadata": {},
   "source": [
    "# Overview\n",
    "\n",
    "### Objective\n",
    "* To use supervised learning to build a prediction model to determine the number of all stars awards that a NBA players supposed to have based on their their existing advance stats and the tier ranking that we predicted previously from the nba_adv_tiers data set\n",
    "\n",
    "### Dataset Source\n",
    "* nba_adv_tiers: Advance stats + tier ranking\n",
    "\n",
    "### Dataset Column Descriptions:\n",
    "* https://basketball.realgm.com/info/glossary\n",
    "\n"
   ]
  },
  {
   "cell_type": "markdown",
   "metadata": {
    "id": "1L7XjEkIsGP0"
   },
   "source": [
    "**Import Packages**"
   ]
  },
  {
   "cell_type": "code",
   "execution_count": 1,
   "metadata": {
    "id": "Jx57ofv1piVh"
   },
   "outputs": [],
   "source": [
    "import numpy as np \n",
    "import pandas as pd \n",
    "import matplotlib.pyplot as plt\n",
    "import seaborn as sns"
   ]
  },
  {
   "cell_type": "markdown",
   "metadata": {
    "id": "-xPyORQXpq4K"
   },
   "source": [
    "**Reading CSV File**"
   ]
  },
  {
   "cell_type": "code",
   "execution_count": 2,
   "metadata": {
    "id": "0JX69G26WqJt"
   },
   "outputs": [],
   "source": [
    "df = pd.read_csv('nba_adv_tiers.csv')"
   ]
  },
  {
   "cell_type": "code",
   "execution_count": 3,
   "metadata": {
    "colab": {
     "base_uri": "https://localhost:8080/",
     "height": 592
    },
    "id": "AGzD3j6qWyks",
    "outputId": "40f7c564-bcc3-4e29-8e58-058e010ded3c"
   },
   "outputs": [
    {
     "data": {
      "text/html": [
       "<div>\n",
       "<style scoped>\n",
       "    .dataframe tbody tr th:only-of-type {\n",
       "        vertical-align: middle;\n",
       "    }\n",
       "\n",
       "    .dataframe tbody tr th {\n",
       "        vertical-align: top;\n",
       "    }\n",
       "\n",
       "    .dataframe thead th {\n",
       "        text-align: right;\n",
       "    }\n",
       "</style>\n",
       "<table border=\"1\" class=\"dataframe\">\n",
       "  <thead>\n",
       "    <tr style=\"text-align: right;\">\n",
       "      <th></th>\n",
       "      <th>Player</th>\n",
       "      <th>TS%</th>\n",
       "      <th>eFG%</th>\n",
       "      <th>Total S %</th>\n",
       "      <th>ORB%</th>\n",
       "      <th>DRB%</th>\n",
       "      <th>TRB%</th>\n",
       "      <th>AST%</th>\n",
       "      <th>TOV%</th>\n",
       "      <th>STL%</th>\n",
       "      <th>...</th>\n",
       "      <th>PPS</th>\n",
       "      <th>ORtg</th>\n",
       "      <th>DRtg</th>\n",
       "      <th>eDiff</th>\n",
       "      <th>FIC</th>\n",
       "      <th>PER</th>\n",
       "      <th>GP</th>\n",
       "      <th>MPG</th>\n",
       "      <th>All Stars</th>\n",
       "      <th>Group</th>\n",
       "    </tr>\n",
       "  </thead>\n",
       "  <tbody>\n",
       "    <tr>\n",
       "      <th>0</th>\n",
       "      <td>A.J. Price</td>\n",
       "      <td>0.4775</td>\n",
       "      <td>0.4475</td>\n",
       "      <td>148.25</td>\n",
       "      <td>2.05</td>\n",
       "      <td>8.90</td>\n",
       "      <td>5.35</td>\n",
       "      <td>22.90</td>\n",
       "      <td>13.10</td>\n",
       "      <td>1.85</td>\n",
       "      <td>...</td>\n",
       "      <td>1.05</td>\n",
       "      <td>100.80</td>\n",
       "      <td>107.90</td>\n",
       "      <td>-6.85</td>\n",
       "      <td>206.00</td>\n",
       "      <td>11.90</td>\n",
       "      <td>44.0</td>\n",
       "      <td>12.90</td>\n",
       "      <td>0</td>\n",
       "      <td>1</td>\n",
       "    </tr>\n",
       "    <tr>\n",
       "      <th>1</th>\n",
       "      <td>Aaron Brooks</td>\n",
       "      <td>0.5180</td>\n",
       "      <td>0.4840</td>\n",
       "      <td>159.50</td>\n",
       "      <td>2.00</td>\n",
       "      <td>6.60</td>\n",
       "      <td>4.60</td>\n",
       "      <td>24.20</td>\n",
       "      <td>14.90</td>\n",
       "      <td>1.40</td>\n",
       "      <td>...</td>\n",
       "      <td>1.10</td>\n",
       "      <td>103.20</td>\n",
       "      <td>111.60</td>\n",
       "      <td>-7.70</td>\n",
       "      <td>318.30</td>\n",
       "      <td>12.40</td>\n",
       "      <td>69.0</td>\n",
       "      <td>21.60</td>\n",
       "      <td>0</td>\n",
       "      <td>1</td>\n",
       "    </tr>\n",
       "    <tr>\n",
       "      <th>2</th>\n",
       "      <td>Aaron Gordon</td>\n",
       "      <td>0.5340</td>\n",
       "      <td>0.5035</td>\n",
       "      <td>145.55</td>\n",
       "      <td>5.75</td>\n",
       "      <td>18.00</td>\n",
       "      <td>11.80</td>\n",
       "      <td>11.65</td>\n",
       "      <td>11.35</td>\n",
       "      <td>1.25</td>\n",
       "      <td>...</td>\n",
       "      <td>1.20</td>\n",
       "      <td>107.55</td>\n",
       "      <td>109.35</td>\n",
       "      <td>-3.00</td>\n",
       "      <td>730.75</td>\n",
       "      <td>15.10</td>\n",
       "      <td>75.0</td>\n",
       "      <td>31.70</td>\n",
       "      <td>0</td>\n",
       "      <td>1</td>\n",
       "    </tr>\n",
       "    <tr>\n",
       "      <th>3</th>\n",
       "      <td>Aaron Gray</td>\n",
       "      <td>0.5440</td>\n",
       "      <td>0.5330</td>\n",
       "      <td>105.60</td>\n",
       "      <td>12.10</td>\n",
       "      <td>27.00</td>\n",
       "      <td>20.20</td>\n",
       "      <td>5.40</td>\n",
       "      <td>21.90</td>\n",
       "      <td>1.10</td>\n",
       "      <td>...</td>\n",
       "      <td>1.30</td>\n",
       "      <td>100.80</td>\n",
       "      <td>107.50</td>\n",
       "      <td>-3.70</td>\n",
       "      <td>144.00</td>\n",
       "      <td>11.10</td>\n",
       "      <td>49.0</td>\n",
       "      <td>16.60</td>\n",
       "      <td>0</td>\n",
       "      <td>2</td>\n",
       "    </tr>\n",
       "    <tr>\n",
       "      <th>4</th>\n",
       "      <td>Aaron Holiday</td>\n",
       "      <td>0.5195</td>\n",
       "      <td>0.4870</td>\n",
       "      <td>161.75</td>\n",
       "      <td>1.45</td>\n",
       "      <td>9.65</td>\n",
       "      <td>5.50</td>\n",
       "      <td>18.95</td>\n",
       "      <td>12.55</td>\n",
       "      <td>1.70</td>\n",
       "      <td>...</td>\n",
       "      <td>1.10</td>\n",
       "      <td>103.30</td>\n",
       "      <td>111.70</td>\n",
       "      <td>-6.15</td>\n",
       "      <td>282.95</td>\n",
       "      <td>11.65</td>\n",
       "      <td>66.0</td>\n",
       "      <td>17.80</td>\n",
       "      <td>0</td>\n",
       "      <td>1</td>\n",
       "    </tr>\n",
       "    <tr>\n",
       "      <th>5</th>\n",
       "      <td>Aaron Nesmith</td>\n",
       "      <td>0.5400</td>\n",
       "      <td>0.5160</td>\n",
       "      <td>153.35</td>\n",
       "      <td>3.75</td>\n",
       "      <td>14.80</td>\n",
       "      <td>9.40</td>\n",
       "      <td>4.95</td>\n",
       "      <td>12.30</td>\n",
       "      <td>1.40</td>\n",
       "      <td>...</td>\n",
       "      <td>1.15</td>\n",
       "      <td>103.95</td>\n",
       "      <td>109.95</td>\n",
       "      <td>-6.00</td>\n",
       "      <td>129.05</td>\n",
       "      <td>8.25</td>\n",
       "      <td>46.0</td>\n",
       "      <td>14.50</td>\n",
       "      <td>0</td>\n",
       "      <td>3</td>\n",
       "    </tr>\n",
       "    <tr>\n",
       "      <th>6</th>\n",
       "      <td>Abdel Nader</td>\n",
       "      <td>0.5220</td>\n",
       "      <td>0.4980</td>\n",
       "      <td>149.30</td>\n",
       "      <td>2.00</td>\n",
       "      <td>12.10</td>\n",
       "      <td>7.50</td>\n",
       "      <td>6.50</td>\n",
       "      <td>12.80</td>\n",
       "      <td>1.30</td>\n",
       "      <td>...</td>\n",
       "      <td>1.10</td>\n",
       "      <td>101.70</td>\n",
       "      <td>108.50</td>\n",
       "      <td>-6.80</td>\n",
       "      <td>148.80</td>\n",
       "      <td>8.80</td>\n",
       "      <td>55.0</td>\n",
       "      <td>11.40</td>\n",
       "      <td>0</td>\n",
       "      <td>3</td>\n",
       "    </tr>\n",
       "    <tr>\n",
       "      <th>7</th>\n",
       "      <td>Al Harrington</td>\n",
       "      <td>0.5310</td>\n",
       "      <td>0.5030</td>\n",
       "      <td>150.80</td>\n",
       "      <td>4.65</td>\n",
       "      <td>16.95</td>\n",
       "      <td>10.95</td>\n",
       "      <td>8.55</td>\n",
       "      <td>12.15</td>\n",
       "      <td>1.40</td>\n",
       "      <td>...</td>\n",
       "      <td>1.15</td>\n",
       "      <td>102.05</td>\n",
       "      <td>108.00</td>\n",
       "      <td>-6.05</td>\n",
       "      <td>478.10</td>\n",
       "      <td>13.85</td>\n",
       "      <td>72.0</td>\n",
       "      <td>27.50</td>\n",
       "      <td>0</td>\n",
       "      <td>1</td>\n",
       "    </tr>\n",
       "    <tr>\n",
       "      <th>8</th>\n",
       "      <td>Al Horford</td>\n",
       "      <td>0.5740</td>\n",
       "      <td>0.5470</td>\n",
       "      <td>164.50</td>\n",
       "      <td>6.50</td>\n",
       "      <td>20.30</td>\n",
       "      <td>13.10</td>\n",
       "      <td>17.40</td>\n",
       "      <td>11.20</td>\n",
       "      <td>1.30</td>\n",
       "      <td>...</td>\n",
       "      <td>1.20</td>\n",
       "      <td>115.10</td>\n",
       "      <td>103.90</td>\n",
       "      <td>12.00</td>\n",
       "      <td>983.60</td>\n",
       "      <td>19.40</td>\n",
       "      <td>73.0</td>\n",
       "      <td>31.85</td>\n",
       "      <td>5</td>\n",
       "      <td>4</td>\n",
       "    </tr>\n",
       "    <tr>\n",
       "      <th>9</th>\n",
       "      <td>Al Jefferson</td>\n",
       "      <td>0.5230</td>\n",
       "      <td>0.4955</td>\n",
       "      <td>132.30</td>\n",
       "      <td>7.15</td>\n",
       "      <td>24.70</td>\n",
       "      <td>16.25</td>\n",
       "      <td>11.35</td>\n",
       "      <td>6.45</td>\n",
       "      <td>1.25</td>\n",
       "      <td>...</td>\n",
       "      <td>1.10</td>\n",
       "      <td>107.20</td>\n",
       "      <td>104.15</td>\n",
       "      <td>3.30</td>\n",
       "      <td>960.70</td>\n",
       "      <td>19.85</td>\n",
       "      <td>73.0</td>\n",
       "      <td>33.10</td>\n",
       "      <td>0</td>\n",
       "      <td>4</td>\n",
       "    </tr>\n",
       "  </tbody>\n",
       "</table>\n",
       "<p>10 rows × 23 columns</p>\n",
       "</div>"
      ],
      "text/plain": [
       "          Player     TS%    eFG%  Total S %   ORB%   DRB%   TRB%   AST%  \\\n",
       "0     A.J. Price  0.4775  0.4475     148.25   2.05   8.90   5.35  22.90   \n",
       "1   Aaron Brooks  0.5180  0.4840     159.50   2.00   6.60   4.60  24.20   \n",
       "2   Aaron Gordon  0.5340  0.5035     145.55   5.75  18.00  11.80  11.65   \n",
       "3     Aaron Gray  0.5440  0.5330     105.60  12.10  27.00  20.20   5.40   \n",
       "4  Aaron Holiday  0.5195  0.4870     161.75   1.45   9.65   5.50  18.95   \n",
       "5  Aaron Nesmith  0.5400  0.5160     153.35   3.75  14.80   9.40   4.95   \n",
       "6    Abdel Nader  0.5220  0.4980     149.30   2.00  12.10   7.50   6.50   \n",
       "7  Al Harrington  0.5310  0.5030     150.80   4.65  16.95  10.95   8.55   \n",
       "8     Al Horford  0.5740  0.5470     164.50   6.50  20.30  13.10  17.40   \n",
       "9   Al Jefferson  0.5230  0.4955     132.30   7.15  24.70  16.25  11.35   \n",
       "\n",
       "    TOV%  STL%  ...   PPS    ORtg    DRtg  eDiff     FIC    PER    GP    MPG  \\\n",
       "0  13.10  1.85  ...  1.05  100.80  107.90  -6.85  206.00  11.90  44.0  12.90   \n",
       "1  14.90  1.40  ...  1.10  103.20  111.60  -7.70  318.30  12.40  69.0  21.60   \n",
       "2  11.35  1.25  ...  1.20  107.55  109.35  -3.00  730.75  15.10  75.0  31.70   \n",
       "3  21.90  1.10  ...  1.30  100.80  107.50  -3.70  144.00  11.10  49.0  16.60   \n",
       "4  12.55  1.70  ...  1.10  103.30  111.70  -6.15  282.95  11.65  66.0  17.80   \n",
       "5  12.30  1.40  ...  1.15  103.95  109.95  -6.00  129.05   8.25  46.0  14.50   \n",
       "6  12.80  1.30  ...  1.10  101.70  108.50  -6.80  148.80   8.80  55.0  11.40   \n",
       "7  12.15  1.40  ...  1.15  102.05  108.00  -6.05  478.10  13.85  72.0  27.50   \n",
       "8  11.20  1.30  ...  1.20  115.10  103.90  12.00  983.60  19.40  73.0  31.85   \n",
       "9   6.45  1.25  ...  1.10  107.20  104.15   3.30  960.70  19.85  73.0  33.10   \n",
       "\n",
       "   All Stars  Group  \n",
       "0          0      1  \n",
       "1          0      1  \n",
       "2          0      1  \n",
       "3          0      2  \n",
       "4          0      1  \n",
       "5          0      3  \n",
       "6          0      3  \n",
       "7          0      1  \n",
       "8          5      4  \n",
       "9          0      4  \n",
       "\n",
       "[10 rows x 23 columns]"
      ]
     },
     "execution_count": 3,
     "metadata": {},
     "output_type": "execute_result"
    }
   ],
   "source": [
    "df.head(10)"
   ]
  },
  {
   "cell_type": "markdown",
   "metadata": {
    "id": "6HDQF9rWp0d2"
   },
   "source": [
    "**Dataset Dimension**"
   ]
  },
  {
   "cell_type": "code",
   "execution_count": 4,
   "metadata": {
    "colab": {
     "base_uri": "https://localhost:8080/"
    },
    "id": "rucWuMj6W4CC",
    "outputId": "d20c091e-ab8d-4999-ea19-426b41843f25"
   },
   "outputs": [
    {
     "data": {
      "text/plain": [
       "(866, 23)"
      ]
     },
     "execution_count": 4,
     "metadata": {},
     "output_type": "execute_result"
    }
   ],
   "source": [
    "df.shape"
   ]
  },
  {
   "cell_type": "markdown",
   "metadata": {
    "id": "KKH3ly7Ep5V4"
   },
   "source": [
    "**Dataset Info**"
   ]
  },
  {
   "cell_type": "code",
   "execution_count": 5,
   "metadata": {
    "colab": {
     "base_uri": "https://localhost:8080/"
    },
    "id": "h3D-78GUW6s0",
    "outputId": "a1107293-006b-4972-f4b6-fca9f9e307a4"
   },
   "outputs": [
    {
     "name": "stdout",
     "output_type": "stream",
     "text": [
      "<class 'pandas.core.frame.DataFrame'>\n",
      "RangeIndex: 866 entries, 0 to 865\n",
      "Data columns (total 23 columns):\n",
      " #   Column     Non-Null Count  Dtype  \n",
      "---  ------     --------------  -----  \n",
      " 0   Player     866 non-null    object \n",
      " 1   TS%        866 non-null    float64\n",
      " 2   eFG%       866 non-null    float64\n",
      " 3   Total S %  866 non-null    float64\n",
      " 4   ORB%       866 non-null    float64\n",
      " 5   DRB%       866 non-null    float64\n",
      " 6   TRB%       866 non-null    float64\n",
      " 7   AST%       866 non-null    float64\n",
      " 8   TOV%       866 non-null    float64\n",
      " 9   STL%       866 non-null    float64\n",
      " 10  BLK%       866 non-null    float64\n",
      " 11  USG%       866 non-null    float64\n",
      " 12  PPR        866 non-null    float64\n",
      " 13  PPS        866 non-null    float64\n",
      " 14  ORtg       866 non-null    float64\n",
      " 15  DRtg       866 non-null    float64\n",
      " 16  eDiff      866 non-null    float64\n",
      " 17  FIC        866 non-null    float64\n",
      " 18  PER        866 non-null    float64\n",
      " 19  GP         866 non-null    float64\n",
      " 20  MPG        866 non-null    float64\n",
      " 21  All Stars  866 non-null    int64  \n",
      " 22  Group      866 non-null    int64  \n",
      "dtypes: float64(20), int64(2), object(1)\n",
      "memory usage: 155.7+ KB\n"
     ]
    }
   ],
   "source": [
    "df.info()"
   ]
  },
  {
   "cell_type": "markdown",
   "metadata": {
    "id": "8Y4vj8ONp-LW"
   },
   "source": [
    "**Reading Dataset Column names.**"
   ]
  },
  {
   "cell_type": "code",
   "execution_count": 6,
   "metadata": {
    "id": "QrEGTyQdXLMn"
   },
   "outputs": [],
   "source": [
    "column_names = df.columns.values"
   ]
  },
  {
   "cell_type": "code",
   "execution_count": 7,
   "metadata": {
    "colab": {
     "base_uri": "https://localhost:8080/"
    },
    "id": "gQTzYRwyXed7",
    "outputId": "a2931dd9-531d-4511-baba-621158e377e8"
   },
   "outputs": [
    {
     "data": {
      "text/plain": [
       "array(['Player', 'TS%', 'eFG%', 'Total S %', 'ORB%', 'DRB%', 'TRB%',\n",
       "       'AST%', 'TOV%', 'STL%', 'BLK%', 'USG%', 'PPR', 'PPS', 'ORtg',\n",
       "       'DRtg', 'eDiff', 'FIC', 'PER', 'GP', 'MPG', 'All Stars', 'Group'],\n",
       "      dtype=object)"
      ]
     },
     "execution_count": 7,
     "metadata": {},
     "output_type": "execute_result"
    }
   ],
   "source": [
    "column_names"
   ]
  },
  {
   "cell_type": "markdown",
   "metadata": {
    "id": "j31aJVfxqOAC"
   },
   "source": [
    "**Checking nan values**"
   ]
  },
  {
   "cell_type": "code",
   "execution_count": 8,
   "metadata": {
    "colab": {
     "base_uri": "https://localhost:8080/"
    },
    "id": "iiKajci0WzNA",
    "outputId": "393259ad-163c-4fc8-e4c0-14dbde1fff6f"
   },
   "outputs": [
    {
     "data": {
      "text/plain": [
       "Player       0\n",
       "TS%          0\n",
       "eFG%         0\n",
       "Total S %    0\n",
       "ORB%         0\n",
       "DRB%         0\n",
       "TRB%         0\n",
       "AST%         0\n",
       "TOV%         0\n",
       "STL%         0\n",
       "BLK%         0\n",
       "USG%         0\n",
       "PPR          0\n",
       "PPS          0\n",
       "ORtg         0\n",
       "DRtg         0\n",
       "eDiff        0\n",
       "FIC          0\n",
       "PER          0\n",
       "GP           0\n",
       "MPG          0\n",
       "All Stars    0\n",
       "Group        0\n",
       "dtype: int64"
      ]
     },
     "execution_count": 8,
     "metadata": {},
     "output_type": "execute_result"
    }
   ],
   "source": [
    "df.isnull().sum()"
   ]
  },
  {
   "cell_type": "markdown",
   "metadata": {
    "id": "1GxeqP_WqWEc"
   },
   "source": [
    "**Creating Train & Test Dataset**"
   ]
  },
  {
   "cell_type": "code",
   "execution_count": 9,
   "metadata": {
    "id": "Yth2MAUAXxHE"
   },
   "outputs": [],
   "source": [
    "# Dropping Player column since it's not necessary\n",
    "X = df.drop(['Player'], axis=1)\n",
    "# Choose All Stars for supervise learningg\n",
    "y = df['All Stars']"
   ]
  },
  {
   "cell_type": "code",
   "execution_count": 10,
   "metadata": {
    "id": "ELxuvqtDX9wO"
   },
   "outputs": [],
   "source": [
    "from sklearn.model_selection import train_test_split\n",
    "# Split dataset into 70% for test and 30% for training\n",
    "X_train, X_test, y_train, y_test = train_test_split(X, y, test_size = 0.3, random_state = 42)"
   ]
  },
  {
   "cell_type": "markdown",
   "metadata": {
    "id": "RfHFsiMQqoCL"
   },
   "source": [
    "**Shape of Train & Test Dataset**"
   ]
  },
  {
   "cell_type": "code",
   "execution_count": 11,
   "metadata": {
    "colab": {
     "base_uri": "https://localhost:8080/"
    },
    "id": "qzasjOXaYBG7",
    "outputId": "880dcd49-ff3f-4d08-b8a8-41ea83bad1d3"
   },
   "outputs": [
    {
     "data": {
      "text/plain": [
       "((606, 22), (260, 22))"
      ]
     },
     "execution_count": 11,
     "metadata": {},
     "output_type": "execute_result"
    }
   ],
   "source": [
    "X_train.shape, X_test.shape"
   ]
  },
  {
   "cell_type": "code",
   "execution_count": 12,
   "metadata": {
    "colab": {
     "base_uri": "https://localhost:8080/"
    },
    "id": "mo5ty9sRYEkd",
    "outputId": "5da57697-a506-4a58-a7e8-6d98a77eee7e"
   },
   "outputs": [
    {
     "data": {
      "text/plain": [
       "TS%          float64\n",
       "eFG%         float64\n",
       "Total S %    float64\n",
       "ORB%         float64\n",
       "DRB%         float64\n",
       "TRB%         float64\n",
       "AST%         float64\n",
       "TOV%         float64\n",
       "STL%         float64\n",
       "BLK%         float64\n",
       "USG%         float64\n",
       "PPR          float64\n",
       "PPS          float64\n",
       "ORtg         float64\n",
       "DRtg         float64\n",
       "eDiff        float64\n",
       "FIC          float64\n",
       "PER          float64\n",
       "GP           float64\n",
       "MPG          float64\n",
       "All Stars      int64\n",
       "Group          int64\n",
       "dtype: object"
      ]
     },
     "execution_count": 12,
     "metadata": {},
     "output_type": "execute_result"
    }
   ],
   "source": [
    "X_train.dtypes"
   ]
  },
  {
   "cell_type": "code",
   "execution_count": 13,
   "metadata": {},
   "outputs": [
    {
     "data": {
      "text/html": [
       "<div>\n",
       "<style scoped>\n",
       "    .dataframe tbody tr th:only-of-type {\n",
       "        vertical-align: middle;\n",
       "    }\n",
       "\n",
       "    .dataframe tbody tr th {\n",
       "        vertical-align: top;\n",
       "    }\n",
       "\n",
       "    .dataframe thead th {\n",
       "        text-align: right;\n",
       "    }\n",
       "</style>\n",
       "<table border=\"1\" class=\"dataframe\">\n",
       "  <thead>\n",
       "    <tr style=\"text-align: right;\">\n",
       "      <th></th>\n",
       "      <th>TS%</th>\n",
       "      <th>eFG%</th>\n",
       "      <th>Total S %</th>\n",
       "      <th>ORB%</th>\n",
       "      <th>DRB%</th>\n",
       "      <th>TRB%</th>\n",
       "      <th>AST%</th>\n",
       "      <th>TOV%</th>\n",
       "      <th>STL%</th>\n",
       "      <th>BLK%</th>\n",
       "      <th>...</th>\n",
       "      <th>PPS</th>\n",
       "      <th>ORtg</th>\n",
       "      <th>DRtg</th>\n",
       "      <th>eDiff</th>\n",
       "      <th>FIC</th>\n",
       "      <th>PER</th>\n",
       "      <th>GP</th>\n",
       "      <th>MPG</th>\n",
       "      <th>All Stars</th>\n",
       "      <th>Group</th>\n",
       "    </tr>\n",
       "  </thead>\n",
       "  <tbody>\n",
       "    <tr>\n",
       "      <th>28</th>\n",
       "      <td>0.542</td>\n",
       "      <td>0.5140</td>\n",
       "      <td>119.40</td>\n",
       "      <td>11.20</td>\n",
       "      <td>24.70</td>\n",
       "      <td>17.70</td>\n",
       "      <td>9.40</td>\n",
       "      <td>13.1</td>\n",
       "      <td>1.70</td>\n",
       "      <td>1.80</td>\n",
       "      <td>...</td>\n",
       "      <td>1.2</td>\n",
       "      <td>113.60</td>\n",
       "      <td>103.30</td>\n",
       "      <td>10.20</td>\n",
       "      <td>366.40</td>\n",
       "      <td>16.90</td>\n",
       "      <td>65.0</td>\n",
       "      <td>27.70</td>\n",
       "      <td>0</td>\n",
       "      <td>2</td>\n",
       "    </tr>\n",
       "    <tr>\n",
       "      <th>761</th>\n",
       "      <td>0.511</td>\n",
       "      <td>0.4855</td>\n",
       "      <td>153.15</td>\n",
       "      <td>7.10</td>\n",
       "      <td>21.50</td>\n",
       "      <td>14.00</td>\n",
       "      <td>14.50</td>\n",
       "      <td>13.9</td>\n",
       "      <td>0.90</td>\n",
       "      <td>3.20</td>\n",
       "      <td>...</td>\n",
       "      <td>1.1</td>\n",
       "      <td>103.05</td>\n",
       "      <td>104.20</td>\n",
       "      <td>-1.55</td>\n",
       "      <td>451.80</td>\n",
       "      <td>14.55</td>\n",
       "      <td>73.0</td>\n",
       "      <td>24.90</td>\n",
       "      <td>0</td>\n",
       "      <td>2</td>\n",
       "    </tr>\n",
       "    <tr>\n",
       "      <th>193</th>\n",
       "      <td>0.539</td>\n",
       "      <td>0.5165</td>\n",
       "      <td>141.70</td>\n",
       "      <td>3.85</td>\n",
       "      <td>13.65</td>\n",
       "      <td>8.75</td>\n",
       "      <td>13.55</td>\n",
       "      <td>18.4</td>\n",
       "      <td>2.55</td>\n",
       "      <td>1.85</td>\n",
       "      <td>...</td>\n",
       "      <td>1.2</td>\n",
       "      <td>100.95</td>\n",
       "      <td>111.45</td>\n",
       "      <td>-10.35</td>\n",
       "      <td>284.45</td>\n",
       "      <td>11.00</td>\n",
       "      <td>66.5</td>\n",
       "      <td>21.35</td>\n",
       "      <td>0</td>\n",
       "      <td>3</td>\n",
       "    </tr>\n",
       "    <tr>\n",
       "      <th>281</th>\n",
       "      <td>0.552</td>\n",
       "      <td>0.5070</td>\n",
       "      <td>165.20</td>\n",
       "      <td>1.80</td>\n",
       "      <td>11.30</td>\n",
       "      <td>6.30</td>\n",
       "      <td>26.70</td>\n",
       "      <td>11.2</td>\n",
       "      <td>2.20</td>\n",
       "      <td>1.00</td>\n",
       "      <td>...</td>\n",
       "      <td>1.2</td>\n",
       "      <td>113.90</td>\n",
       "      <td>110.00</td>\n",
       "      <td>4.20</td>\n",
       "      <td>741.80</td>\n",
       "      <td>16.30</td>\n",
       "      <td>64.0</td>\n",
       "      <td>35.70</td>\n",
       "      <td>1</td>\n",
       "      <td>5</td>\n",
       "    </tr>\n",
       "    <tr>\n",
       "      <th>814</th>\n",
       "      <td>0.501</td>\n",
       "      <td>0.4760</td>\n",
       "      <td>154.60</td>\n",
       "      <td>1.90</td>\n",
       "      <td>11.20</td>\n",
       "      <td>6.50</td>\n",
       "      <td>10.60</td>\n",
       "      <td>10.2</td>\n",
       "      <td>1.70</td>\n",
       "      <td>0.80</td>\n",
       "      <td>...</td>\n",
       "      <td>1.1</td>\n",
       "      <td>97.40</td>\n",
       "      <td>114.70</td>\n",
       "      <td>-17.30</td>\n",
       "      <td>315.80</td>\n",
       "      <td>10.20</td>\n",
       "      <td>60.0</td>\n",
       "      <td>22.80</td>\n",
       "      <td>0</td>\n",
       "      <td>1</td>\n",
       "    </tr>\n",
       "  </tbody>\n",
       "</table>\n",
       "<p>5 rows × 22 columns</p>\n",
       "</div>"
      ],
      "text/plain": [
       "       TS%    eFG%  Total S %   ORB%   DRB%   TRB%   AST%  TOV%  STL%  BLK%  \\\n",
       "28   0.542  0.5140     119.40  11.20  24.70  17.70   9.40  13.1  1.70  1.80   \n",
       "761  0.511  0.4855     153.15   7.10  21.50  14.00  14.50  13.9  0.90  3.20   \n",
       "193  0.539  0.5165     141.70   3.85  13.65   8.75  13.55  18.4  2.55  1.85   \n",
       "281  0.552  0.5070     165.20   1.80  11.30   6.30  26.70  11.2  2.20  1.00   \n",
       "814  0.501  0.4760     154.60   1.90  11.20   6.50  10.60  10.2  1.70  0.80   \n",
       "\n",
       "     ...  PPS    ORtg    DRtg  eDiff     FIC    PER    GP    MPG  All Stars  \\\n",
       "28   ...  1.2  113.60  103.30  10.20  366.40  16.90  65.0  27.70          0   \n",
       "761  ...  1.1  103.05  104.20  -1.55  451.80  14.55  73.0  24.90          0   \n",
       "193  ...  1.2  100.95  111.45 -10.35  284.45  11.00  66.5  21.35          0   \n",
       "281  ...  1.2  113.90  110.00   4.20  741.80  16.30  64.0  35.70          1   \n",
       "814  ...  1.1   97.40  114.70 -17.30  315.80  10.20  60.0  22.80          0   \n",
       "\n",
       "     Group  \n",
       "28       2  \n",
       "761      2  \n",
       "193      3  \n",
       "281      5  \n",
       "814      1  \n",
       "\n",
       "[5 rows x 22 columns]"
      ]
     },
     "execution_count": 13,
     "metadata": {},
     "output_type": "execute_result"
    }
   ],
   "source": [
    "X_train.head()"
   ]
  },
  {
   "cell_type": "markdown",
   "metadata": {},
   "source": [
    "**Count All Stars Class**"
   ]
  },
  {
   "cell_type": "code",
   "execution_count": 14,
   "metadata": {},
   "outputs": [
    {
     "data": {
      "text/plain": [
       "0     745\n",
       "1      37\n",
       "2      19\n",
       "3      13\n",
       "6       9\n",
       "4       8\n",
       "5       8\n",
       "7       6\n",
       "8       5\n",
       "10      5\n",
       "15      3\n",
       "12      2\n",
       "18      2\n",
       "9       1\n",
       "11      1\n",
       "13      1\n",
       "14      1\n",
       "Name: All Stars, dtype: int64"
      ]
     },
     "execution_count": 14,
     "metadata": {},
     "output_type": "execute_result"
    }
   ],
   "source": [
    "df['All Stars'].value_counts()"
   ]
  },
  {
   "cell_type": "markdown",
   "metadata": {
    "id": "dK0t6pnUqu1C"
   },
   "source": [
    "# **Building Decision Tree model**"
   ]
  },
  {
   "cell_type": "code",
   "execution_count": 15,
   "metadata": {
    "id": "H9HzIZ9OYKOG"
   },
   "outputs": [],
   "source": [
    "from sklearn.tree import DecisionTreeClassifier"
   ]
  },
  {
   "cell_type": "markdown",
   "metadata": {},
   "source": [
    "### Why choose max depth at 5?\n",
    "Max depth at 5 is the point where both training set and test set has the highest accuracy. The technique we use is the same as choosing the k. Start the depth from 1 and keep increasing till we find the highest accuracy without over fitting the model\n"
   ]
  },
  {
   "cell_type": "code",
   "execution_count": 16,
   "metadata": {
    "colab": {
     "base_uri": "https://localhost:8080/"
    },
    "id": "OtQbhIEQYlaO",
    "outputId": "c8b752ca-965f-40e8-99d5-6b9b52cf2287"
   },
   "outputs": [
    {
     "data": {
      "text/plain": [
       "DecisionTreeClassifier(ccp_alpha=0.0, class_weight=None, criterion='gini',\n",
       "                       max_depth=5, max_features=None, max_leaf_nodes=None,\n",
       "                       min_impurity_decrease=0.0, min_impurity_split=None,\n",
       "                       min_samples_leaf=1, min_samples_split=2,\n",
       "                       min_weight_fraction_leaf=0.0, presort='deprecated',\n",
       "                       random_state=0, splitter='best')"
      ]
     },
     "execution_count": 16,
     "metadata": {},
     "output_type": "execute_result"
    }
   ],
   "source": [
    "classifier_gini = DecisionTreeClassifier(criterion='gini', max_depth=5, random_state=0)\n",
    "classifier_gini.fit(X_train, y_train)"
   ]
  },
  {
   "cell_type": "markdown",
   "metadata": {
    "id": "6qLADk-Xq4tz"
   },
   "source": [
    "**Predict Test Data using Trained model**"
   ]
  },
  {
   "cell_type": "code",
   "execution_count": 17,
   "metadata": {
    "id": "l8_zyQWgZBSA"
   },
   "outputs": [],
   "source": [
    "y_pred_gini = classifier_gini.predict(X_test)"
   ]
  },
  {
   "cell_type": "markdown",
   "metadata": {
    "id": "dciL2O3CrHEj"
   },
   "source": [
    "**Checking Accuracy on Test Dataset**"
   ]
  },
  {
   "cell_type": "code",
   "execution_count": 18,
   "metadata": {
    "colab": {
     "base_uri": "https://localhost:8080/"
    },
    "id": "RV7QjInlZHu2",
    "outputId": "4e4c82a9-b334-45d6-d93b-a541fd75124f"
   },
   "outputs": [
    {
     "name": "stdout",
     "output_type": "stream",
     "text": [
      "Model accuracy score with criterion gini index: 0.9500\n"
     ]
    }
   ],
   "source": [
    "from sklearn.metrics import accuracy_score\n",
    "\n",
    "print('Model accuracy score with criterion gini index: {0:0.4f}'. format(accuracy_score(y_test, y_pred_gini)))"
   ]
  },
  {
   "cell_type": "markdown",
   "metadata": {
    "id": "umBoS_ZJrVCB"
   },
   "source": [
    "**Checking Accuracy on Train Dataset**"
   ]
  },
  {
   "cell_type": "code",
   "execution_count": 19,
   "metadata": {
    "id": "nmludW3sZYMj"
   },
   "outputs": [],
   "source": [
    "y_pred_train_gini = classifier_gini.predict(X_train)"
   ]
  },
  {
   "cell_type": "code",
   "execution_count": 20,
   "metadata": {
    "colab": {
     "base_uri": "https://localhost:8080/"
    },
    "id": "0sulszCBZZMO",
    "outputId": "3d6f2259-847c-45c7-8fcd-ce665a26efe7"
   },
   "outputs": [
    {
     "name": "stdout",
     "output_type": "stream",
     "text": [
      "Training-set accuracy score: 0.9637\n"
     ]
    }
   ],
   "source": [
    "print('Training-set accuracy score: {0:0.4f}'. format(accuracy_score(y_train, y_pred_train_gini)))"
   ]
  },
  {
   "cell_type": "markdown",
   "metadata": {
    "id": "q_hKXlsErbp_"
   },
   "source": [
    "**Comparing Scores of Both Dataset**"
   ]
  },
  {
   "cell_type": "code",
   "execution_count": 21,
   "metadata": {
    "colab": {
     "base_uri": "https://localhost:8080/"
    },
    "id": "Mi4O6VdSZf75",
    "outputId": "8f7bace6-9928-4461-b60d-1a4944c5f257"
   },
   "outputs": [
    {
     "name": "stdout",
     "output_type": "stream",
     "text": [
      "Training set score: 0.9637\n",
      "Test set score: 0.9500\n"
     ]
    }
   ],
   "source": [
    "\n",
    "print('Training set score: {:.4f}'.format(classifier_gini.score(X_train, y_train)))\n",
    "\n",
    "print('Test set score: {:.4f}'.format(classifier_gini.score(X_test, y_test)))"
   ]
  },
  {
   "cell_type": "markdown",
   "metadata": {
    "id": "c0lG43TermU1"
   },
   "source": [
    "**Plotting Decision Tree**"
   ]
  },
  {
   "cell_type": "code",
   "execution_count": 22,
   "metadata": {
    "colab": {
     "base_uri": "https://localhost:8080/",
     "height": 726
    },
    "id": "py5ITUikZmH_",
    "outputId": "f7cdd93b-773c-445e-d94c-6e344cf735a4",
    "scrolled": false
   },
   "outputs": [
    {
     "data": {
      "text/plain": [
       "[Text(167.4, 398.64, 'X[20] <= 0.5\\ngini = 0.241\\nsamples = 606\\nvalue = [527, 28, 11, 7, 4, 5, 6, 5, 4, 1, 1, 1, 1, 1\\n2, 2]'),\n",
       " Text(83.7, 326.15999999999997, 'gini = 0.0\\nsamples = 527\\nvalue = [527, 0, 0, 0, 0, 0, 0, 0, 0, 0, 0, 0, 0, 0\\n0, 0]'),\n",
       " Text(251.10000000000002, 326.15999999999997, 'X[20] <= 1.5\\ngini = 0.826\\nsamples = 79\\nvalue = [0, 28, 11, 7, 4, 5, 6, 5, 4, 1, 1, 1, 1, 1\\n2, 2]'),\n",
       " Text(167.4, 253.67999999999998, 'gini = 0.0\\nsamples = 28\\nvalue = [0, 28, 0, 0, 0, 0, 0, 0, 0, 0, 0, 0, 0, 0\\n0, 0]'),\n",
       " Text(334.8, 253.67999999999998, 'X[20] <= 2.5\\ngini = 0.884\\nsamples = 51\\nvalue = [0, 0, 11, 7, 4, 5, 6, 5, 4, 1, 1, 1, 1, 1\\n2, 2]'),\n",
       " Text(251.10000000000002, 181.2, 'gini = 0.0\\nsamples = 11\\nvalue = [0, 0, 11, 0, 0, 0, 0, 0, 0, 0, 0, 0, 0, 0\\n0, 0]'),\n",
       " Text(418.5, 181.2, 'X[20] <= 3.5\\ngini = 0.888\\nsamples = 40\\nvalue = [0, 0, 0, 7, 4, 5, 6, 5, 4, 1, 1, 1, 1, 1\\n2, 2]'),\n",
       " Text(334.8, 108.71999999999997, 'gini = 0.0\\nsamples = 7\\nvalue = [0, 0, 0, 7, 0, 0, 0, 0, 0, 0, 0, 0, 0, 0\\n0, 0]'),\n",
       " Text(502.20000000000005, 108.71999999999997, 'X[20] <= 5.5\\ngini = 0.88\\nsamples = 33\\nvalue = [0, 0, 0, 0, 4, 5, 6, 5, 4, 1, 1, 1, 1, 1\\n2, 2]'),\n",
       " Text(418.5, 36.23999999999995, 'gini = 0.494\\nsamples = 9\\nvalue = [0, 0, 0, 0, 4, 5, 0, 0, 0, 0, 0, 0, 0, 0\\n0, 0]'),\n",
       " Text(585.9, 36.23999999999995, 'gini = 0.844\\nsamples = 24\\nvalue = [0, 0, 0, 0, 0, 0, 6, 5, 4, 1, 1, 1, 1, 1\\n2, 2]')]"
      ]
     },
     "execution_count": 22,
     "metadata": {},
     "output_type": "execute_result"
    },
    {
     "data": {
      "image/png": "[encoded data removed]",
      "text/plain": [
       "<Figure size 864x576 with 1 Axes>"
      ]
     },
     "metadata": {
      "needs_background": "light"
     },
     "output_type": "display_data"
    }
   ],
   "source": [
    "plt.figure(figsize=(12,8))\n",
    "from sklearn import tree\n",
    "tree.plot_tree(classifier_gini.fit(X_train, y_train)) "
   ]
  },
  {
   "cell_type": "markdown",
   "metadata": {
    "id": "niaGZKSAoEtS"
   },
   "source": [
    "## **K Nearest Neighbour**"
   ]
  },
  {
   "cell_type": "markdown",
   "metadata": {
    "id": "P8_VV3K-sLYf"
   },
   "source": [
    "**Import Pakages**"
   ]
  },
  {
   "cell_type": "code",
   "execution_count": 23,
   "metadata": {
    "id": "0PhAhsMcoHth"
   },
   "outputs": [],
   "source": [
    "import itertools\n",
    "import numpy as np\n",
    "import matplotlib.pyplot as plt\n",
    "from matplotlib.ticker import NullFormatter\n",
    "import pandas as pd\n",
    "import matplotlib.ticker as ticker\n",
    "from sklearn import preprocessing"
   ]
  },
  {
   "cell_type": "markdown",
   "metadata": {
    "id": "aipvCPllsdTX"
   },
   "source": [
    "**Getting Columns for Train Dataset**"
   ]
  },
  {
   "cell_type": "code",
   "execution_count": 24,
   "metadata": {
    "id": "DoA9Eqb3oRyI"
   },
   "outputs": [],
   "source": [
    "X = df[['TS%', 'eFG%', 'Total S %', 'ORB%', 'DRB%', 'TRB%',\n",
    "       'AST%', 'TOV%', 'STL%', 'BLK%', 'USG%', 'PPR', 'PPS', 'ORtg',\n",
    "       'DRtg', 'eDiff', 'FIC', 'PER', 'GP', 'MPG', 'Group']].values"
   ]
  },
  {
   "cell_type": "code",
   "execution_count": 25,
   "metadata": {
    "colab": {
     "base_uri": "https://localhost:8080/"
    },
    "id": "3Yr_4sUnomif",
    "outputId": "07655528-c838-4645-febc-0d05301b4937",
    "scrolled": true
   },
   "outputs": [
    {
     "data": {
      "text/plain": [
       "array([[ 4.7750e-01,  4.4750e-01,  1.4825e+02,  2.0500e+00,  8.9000e+00,\n",
       "         5.3500e+00,  2.2900e+01,  1.3100e+01,  1.8500e+00,  2.0000e-01,\n",
       "         2.0300e+01,  3.5500e+00,  1.0500e+00,  1.0080e+02,  1.0790e+02,\n",
       "        -6.8500e+00,  2.0600e+02,  1.1900e+01,  4.4000e+01,  1.2900e+01,\n",
       "         1.0000e+00],\n",
       "       [ 5.1800e-01,  4.8400e-01,  1.5950e+02,  2.0000e+00,  6.6000e+00,\n",
       "         4.6000e+00,  2.4200e+01,  1.4900e+01,  1.4000e+00,  6.0000e-01,\n",
       "         2.3100e+01,  1.9000e+00,  1.1000e+00,  1.0320e+02,  1.1160e+02,\n",
       "        -7.7000e+00,  3.1830e+02,  1.2400e+01,  6.9000e+01,  2.1600e+01,\n",
       "         1.0000e+00],\n",
       "       [ 5.3400e-01,  5.0350e-01,  1.4555e+02,  5.7500e+00,  1.8000e+01,\n",
       "         1.1800e+01,  1.1650e+01,  1.1350e+01,  1.2500e+00,  1.8500e+00,\n",
       "         2.0350e+01,  6.5000e-01,  1.2000e+00,  1.0755e+02,  1.0935e+02,\n",
       "        -3.0000e+00,  7.3075e+02,  1.5100e+01,  7.5000e+01,  3.1700e+01,\n",
       "         1.0000e+00],\n",
       "       [ 5.4400e-01,  5.3300e-01,  1.0560e+02,  1.2100e+01,  2.7000e+01,\n",
       "         2.0200e+01,  5.4000e+00,  2.1900e+01,  1.1000e+00,  1.7000e+00,\n",
       "         1.3300e+01, -4.1000e+00,  1.3000e+00,  1.0080e+02,  1.0750e+02,\n",
       "        -3.7000e+00,  1.4400e+02,  1.1100e+01,  4.9000e+01,  1.6600e+01,\n",
       "         2.0000e+00],\n",
       "       [ 5.1950e-01,  4.8700e-01,  1.6175e+02,  1.4500e+00,  9.6500e+00,\n",
       "         5.5000e+00,  1.8950e+01,  1.2550e+01,  1.7000e+00,  9.0000e-01,\n",
       "         1.9100e+01,  3.1000e+00,  1.1000e+00,  1.0330e+02,  1.1170e+02,\n",
       "        -6.1500e+00,  2.8295e+02,  1.1650e+01,  6.6000e+01,  1.7800e+01,\n",
       "         1.0000e+00]])"
      ]
     },
     "execution_count": 25,
     "metadata": {},
     "output_type": "execute_result"
    }
   ],
   "source": [
    "X[0:5]"
   ]
  },
  {
   "cell_type": "markdown",
   "metadata": {
    "id": "fYCyKn2xsmSu"
   },
   "source": [
    "**Getting Column for Test Dataset**"
   ]
  },
  {
   "cell_type": "code",
   "execution_count": 26,
   "metadata": {
    "colab": {
     "base_uri": "https://localhost:8080/"
    },
    "id": "8PhoCnfVoqfx",
    "outputId": "b65a35c2-0d88-4dce-b833-707c86262e14"
   },
   "outputs": [
    {
     "data": {
      "text/plain": [
       "array([0, 0, 0, 0, 0])"
      ]
     },
     "execution_count": 26,
     "metadata": {},
     "output_type": "execute_result"
    }
   ],
   "source": [
    "y = df['All Stars'].values\n",
    "y[0:5]"
   ]
  },
  {
   "cell_type": "markdown",
   "metadata": {
    "id": "47ZgEdd8s1kl"
   },
   "source": [
    "**Normalize Data**"
   ]
  },
  {
   "cell_type": "code",
   "execution_count": 27,
   "metadata": {
    "colab": {
     "base_uri": "https://localhost:8080/"
    },
    "id": "f-_ev7mTovMK",
    "outputId": "9e9eae33-da42-4a74-9109-60be7f87ea97"
   },
   "outputs": [
    {
     "data": {
      "text/plain": [
       "array([[-1.45986151e+00, -1.33346878e+00, -3.09039308e-02,\n",
       "        -8.12204233e-01, -1.09795358e+00, -1.06721516e+00,\n",
       "         1.21941061e+00,  9.12631433e-02,  6.02968543e-01,\n",
       "        -1.03231766e+00,  4.02069089e-01,  1.20840263e+00,\n",
       "        -1.22751375e+00, -9.21527577e-01, -3.23426807e-01,\n",
       "        -6.45319592e-01, -9.65039562e-01, -4.75366601e-01,\n",
       "        -3.27000236e+00, -1.53315534e+00, -1.07336246e+00],\n",
       "       [-5.54109243e-01, -5.63577649e-01,  6.23123539e-01,\n",
       "        -8.25997132e-01, -1.52357032e+00, -1.24185330e+00,\n",
       "         1.37925277e+00,  6.03730679e-01, -2.66671876e-01,\n",
       "        -7.56289227e-01,  1.01820150e+00,  5.83583913e-01,\n",
       "        -8.45542171e-01, -6.13430173e-01,  6.38626827e-01,\n",
       "        -7.42597909e-01, -5.08895778e-01, -3.40490945e-01,\n",
       "         1.87402523e-01, -2.20821259e-01, -1.07336246e+00],\n",
       "       [-1.96281188e-01, -1.52265950e-01, -1.87870524e-01,\n",
       "         2.08470266e-01,  5.86008310e-01,  4.34672855e-01,\n",
       "        -1.63838933e-01, -4.06969183e-01, -5.56552016e-01,\n",
       "         1.06299634e-01,  4.13071454e-01,  1.10236404e-01,\n",
       "        -8.15990097e-02, -5.50036286e-02,  5.35942118e-02,\n",
       "        -2.04706037e-01,  1.16640702e+00,  3.87837596e-01,\n",
       "         1.01717969e+00,  1.30269302e+00, -1.07336246e+00],\n",
       "       [ 2.73613471e-02,  4.69974827e-01, -2.51039474e+00,\n",
       "         1.96016839e+00,  2.25146512e+00,  2.39062004e+00,\n",
       "        -9.32310899e-01,  2.59665998e+00, -8.46432155e-01,\n",
       "         2.78897091e-03, -1.13826195e+00, -1.68848413e+00,\n",
       "         6.82344151e-01, -9.21527577e-01, -4.27432605e-01,\n",
       "        -2.84817592e-01, -1.21687317e+00, -6.91167650e-01,\n",
       "        -2.57852138e+00, -9.75036246e-01, -3.44889191e-01],\n",
       "       [-5.20562863e-01, -5.00298926e-01,  7.53929033e-01,\n",
       "        -9.77719017e-01, -9.59165512e-01, -1.03228753e+00,\n",
       "         7.33736323e-01, -6.53241592e-02,  3.13088403e-01,\n",
       "        -5.49267900e-01,  1.38012340e-01,  1.03799752e+00,\n",
       "        -8.45542171e-01, -6.00592781e-01,  6.64628276e-01,\n",
       "        -5.65208036e-01, -6.52481555e-01, -5.42804429e-01,\n",
       "        -2.27486063e-01, -7.94024649e-01, -1.07336246e+00]])"
      ]
     },
     "execution_count": 27,
     "metadata": {},
     "output_type": "execute_result"
    }
   ],
   "source": [
    "X = preprocessing.StandardScaler().fit(X).transform(X.astype(float))\n",
    "X[0:5]"
   ]
  },
  {
   "cell_type": "markdown",
   "metadata": {
    "id": "CHY6Qj8Ws4t_"
   },
   "source": [
    "**Splitting Dataset into Train & Test**"
   ]
  },
  {
   "cell_type": "code",
   "execution_count": 28,
   "metadata": {
    "colab": {
     "base_uri": "https://localhost:8080/"
    },
    "id": "pXYW09Ffo148",
    "outputId": "0449ccb5-8003-4c70-a031-77fd5e58a0dd"
   },
   "outputs": [
    {
     "name": "stdout",
     "output_type": "stream",
     "text": [
      "Train set: (606, 21) (606,)\n",
      "Test set: (260, 21) (260,)\n"
     ]
    }
   ],
   "source": [
    "from sklearn.model_selection import train_test_split\n",
    "X_train, X_test, y_train, y_test = train_test_split( X, y, test_size=0.3, random_state=4)\n",
    "print ('Train set:', X_train.shape,  y_train.shape)\n",
    "print ('Test set:', X_test.shape,  y_test.shape)"
   ]
  },
  {
   "cell_type": "markdown",
   "metadata": {
    "id": "ncU3MWYSs8pD"
   },
   "source": [
    "**Creating K-Nearest-Neighbour model**"
   ]
  },
  {
   "cell_type": "code",
   "execution_count": 29,
   "metadata": {
    "id": "TpL6gmB9o4pW"
   },
   "outputs": [],
   "source": [
    "from sklearn.neighbors import KNeighborsClassifier"
   ]
  },
  {
   "cell_type": "markdown",
   "metadata": {},
   "source": [
    "### Why choose k = 3?\n",
    "k is the number of nearest neighbours to examine.So how we choose right k? The general solution is to reserve a part of  data for testing the accuracy of the model. I first started at k = 1, use the training part for modeling, and calculate the accuracy of prediction using all samples in test set. Repeat this process, increasing the k, and see which k is the best for your model. I find out that the accuracy is maximized at k = 2, anything after that will be overfitting and not neccessary\n"
   ]
  },
  {
   "cell_type": "code",
   "execution_count": 30,
   "metadata": {
    "id": "sb3Xzh13o5Z1"
   },
   "outputs": [],
   "source": [
    "k = 3\n",
    "neigh = KNeighborsClassifier(n_neighbors = k).fit(X_train,y_train)"
   ]
  },
  {
   "cell_type": "markdown",
   "metadata": {
    "id": "qaj8jv3jtH98"
   },
   "source": [
    "**Predicting Test Data using Trained K-Nearest-Neighbour model**"
   ]
  },
  {
   "cell_type": "code",
   "execution_count": 31,
   "metadata": {
    "colab": {
     "base_uri": "https://localhost:8080/"
    },
    "id": "AvRac59So-Tl",
    "outputId": "7f2c7afb-17bd-4be8-e4e2-9ffffd2ab124"
   },
   "outputs": [
    {
     "data": {
      "text/plain": [
       "array([0, 0, 0, 0, 0])"
      ]
     },
     "execution_count": 31,
     "metadata": {},
     "output_type": "execute_result"
    }
   ],
   "source": [
    "yhat = neigh.predict(X_test)\n",
    "yhat[0:5]"
   ]
  },
  {
   "cell_type": "markdown",
   "metadata": {
    "id": "N3SzF31wtREU"
   },
   "source": [
    "**Evaluating Accuracy of Train & Test Score**"
   ]
  },
  {
   "cell_type": "code",
   "execution_count": 32,
   "metadata": {
    "colab": {
     "base_uri": "https://localhost:8080/"
    },
    "id": "b90LIbflpBzs",
    "outputId": "a47a398d-f932-4e48-8f7c-b570ee4cf76a"
   },
   "outputs": [
    {
     "name": "stdout",
     "output_type": "stream",
     "text": [
      "Train set Accuracy:  0.8894389438943895\n",
      "Test set Accuracy:  0.8384615384615385\n"
     ]
    }
   ],
   "source": [
    "from sklearn import metrics\n",
    "print(\"Train set Accuracy: \", metrics.accuracy_score(y_train, neigh.predict(X_train)))\n",
    "print(\"Test set Accuracy: \", metrics.accuracy_score(y_test, yhat))"
   ]
  },
  {
   "cell_type": "code",
   "execution_count": 33,
   "metadata": {
    "id": "o5BFEvamtjSt"
   },
   "outputs": [
    {
     "data": {
      "text/plain": [
       "array([[ 0.13918261,  0.23795284, -0.38843895,  0.55329273,  0.93760475,\n",
       "         0.85380439, -0.15769116, -0.10802979, -0.65317873,  1.86598091,\n",
       "         0.44607855, -0.40097891, -0.08159901,  0.07978899, -0.45343405,\n",
       "         0.2759633 ,  1.93023461,  0.63061378,  0.18740252,  1.61946331,\n",
       "        -0.34488919],\n",
       "       [ 0.13918261,  0.34341738, -1.63254454,  1.71189622,  0.71554384,\n",
       "         1.15651051, -0.87083314, -0.81979025,  0.50634183,  0.89988139,\n",
       "        -0.67616264, -0.47671451, -0.08159901,  0.8371951 ,  0.11859784,\n",
       "         0.7108546 , -0.14089376,  0.63061378, -0.22748606, -0.71860315,\n",
       "        -0.34488919],\n",
       "       [ 1.10084551, -0.03625496,  1.01844681, -0.81220423, -0.84813506,\n",
       "        -0.84600685,  3.93672748,  0.97384612, -0.4599253 , -0.89430344,\n",
       "         3.33970043,  2.00362644,  1.44628731,  0.9976625 ,  2.18571308,\n",
       "        -0.03876067,  2.69446838,  2.61328591,  0.25655062,  1.69488481,\n",
       "         1.84053061],\n",
       "       [-0.30810246, -0.36319503,  1.18122698, -0.90875452, -1.01468074,\n",
       "        -1.04393008,  1.70508489,  0.87419966,  0.21646169, -1.03231766,\n",
       "        -0.08203495,  1.64388233, -0.46357059, -0.15128407,  0.11859784,\n",
       "        -0.09026096, -0.2659982 ,  0.27993707,  1.57036448, -0.14539976,\n",
       "        -1.07336246],\n",
       "       [ 0.16154687, -0.39483439,  0.92542957, -0.82599713, -0.62607415,\n",
       "        -0.75286651,  0.89972627, -0.93367193, -0.36329859, -0.79079278,\n",
       "         1.18323697,  1.18946873,  0.30037257,  0.74733336,  0.85963915,\n",
       "         0.29313006,  0.22893609,  0.3878376 ,  0.46399491, -0.27361631,\n",
       "         1.84053061]])"
      ]
     },
     "execution_count": 33,
     "metadata": {},
     "output_type": "execute_result"
    }
   ],
   "source": [
    "X_test[0:5]"
   ]
  },
  {
   "cell_type": "code",
   "execution_count": null,
   "metadata": {},
   "outputs": [],
   "source": []
  },
  {
   "cell_type": "markdown",
   "metadata": {},
   "source": [
    "## Prediction on Single Record"
   ]
  },
  {
   "cell_type": "code",
   "execution_count": 34,
   "metadata": {},
   "outputs": [],
   "source": [
    "def predict(data_list):\n",
    "    arr = []\n",
    "    arr.append(data_list)\n",
    "    array_data = np.array(arr)\n",
    "    res = neigh.predict(array_data)\n",
    "    \n",
    "    return res"
   ]
  },
  {
   "cell_type": "code",
   "execution_count": 35,
   "metadata": {},
   "outputs": [
    {
     "name": "stdout",
     "output_type": "stream",
     "text": [
      "[0]\n"
     ]
    }
   ],
   "source": [
    "# ['TS%', 'eFG%', 'Total S %', 'ORB%', 'DRB%', 'TRB%', 'AST%', 'TOV%', 'STL%', 'BLK%', 'USG%', 'PPR', 'PPS', 'ORtg', 'DRtg', 'eDiff', 'FIC', 'PER', 'GP', 'MPG', 'Group']\n",
    "array_data = [ 0.13918261,  0.23795284, -0.38843895,  0.55329273,  0.93760475, 0.85380439, -0.15769116, -0.10802979, -0.65317873,  1.86598091, 0.44607855, -0.40097891, -0.08159901,  0.07978899, -0.45343405, 0.2759633 ,  1.93023461,  0.63061378,  0.18740252,  1.61946331, 1]\n",
    "\n",
    "result = predict(array_data)\n",
    "print(result)"
   ]
  },
  {
   "cell_type": "code",
   "execution_count": 36,
   "metadata": {},
   "outputs": [
    {
     "data": {
      "text/plain": [
       "0     745\n",
       "1      37\n",
       "2      19\n",
       "3      13\n",
       "6       9\n",
       "4       8\n",
       "5       8\n",
       "7       6\n",
       "8       5\n",
       "10      5\n",
       "15      3\n",
       "12      2\n",
       "18      2\n",
       "9       1\n",
       "11      1\n",
       "13      1\n",
       "14      1\n",
       "Name: All Stars, dtype: int64"
      ]
     },
     "execution_count": 36,
     "metadata": {},
     "output_type": "execute_result"
    }
   ],
   "source": [
    "df['All Stars'].value_counts()"
   ]
  },
  {
   "cell_type": "markdown",
   "metadata": {},
   "source": [
    "# Analysis\n",
    "I Trained 2 Models (Decision Tree & KNN) in order to check which performs well. Both of them provides high accuracy but the the result Decision Tree perform better than KNN by provide more accuracy output. The decision tree has accuracy of more than 96% for training set and 95% for test set. On the other hand, KNN only has the accuracy of 89 % for Train set and 83% for test set.\n",
    "\n",
    "As you can see above, the dataset  has widespread points for All Stars column. For example, player with 0-1 awards appear more frequently then others. As a result, the frequency of the data points apprearing in the data column is not evenly spread, and because KNN groups its neighbors based on K value, the lower the better accuracy, so KNN finds it difficult to predict the low frequency data point (such as player that has more than awards) \n",
    "\n",
    "On the other hand, even though the frequency of the data points are not evenly spread, decision tree model groups data based on the frequency range of data points which increases the chance of prediction. If the data points are inter-related with each other then decision tree will group based on the distribution of the data points. \n",
    "\n",
    "But KNN can simply group based on data points and not the frequency range. For example, only one player has 14 all stars and 1 player has 13 all stars so these player cannot be predicted easily because the KNN group all these people as one group"
   ]
  }
 ],
 "metadata": {
  "colab": {
   "collapsed_sections": [],
   "name": "Group_Prediction.ipynb",
   "provenance": []
  },
  "hide_input": false,
  "kernelspec": {
   "display_name": "Python 3 (ipykernel)",
   "language": "python",
   "name": "python3"
  },
  "language_info": {
   "codemirror_mode": {
    "name": "ipython",
    "version": 3
   },
   "file_extension": ".py",
   "mimetype": "text/x-python",
   "name": "python",
   "nbconvert_exporter": "python",
   "pygments_lexer": "ipython3",
   "version": "3.9.12"
  }
 },
 "nbformat": 4,
 "nbformat_minor": 1
}
